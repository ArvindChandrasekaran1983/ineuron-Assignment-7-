{
 "cells": [
  {
   "cell_type": "markdown",
   "id": "8c12cd79",
   "metadata": {},
   "source": [
    "### Q.1. Create two int type variables, apply addition, subtraction, division and multiplications\n",
    "and store the results in variables. Then print the data in the following format by calling the\n",
    "variables:\n",
    "First variable is __ & second variable is __.\n",
    "Addition: __ + __ = __\n",
    "Subtraction: __ - __ = __\n",
    "Multiplication: __ * __ = __\n",
    "Division: __ / __ = __"
   ]
  },
  {
   "cell_type": "code",
   "execution_count": 44,
   "id": "e3ea4ef2",
   "metadata": {},
   "outputs": [
    {
     "name": "stdout",
     "output_type": "stream",
     "text": [
      "First variable is : 50 & Second Variable is : 25\n",
      "Addition : num1 + num2  = 75\n",
      "Subtraction : num1 - num2  = 25\n",
      "Multiplication : num1 * num2  = 1250\n",
      "Division : num1 / num2 = 2\n"
     ]
    }
   ],
   "source": [
    "## Creating the Variables\n",
    "num1=50\n",
    "num2=25\n",
    "\n",
    "## Defining a function\n",
    "def calculations():\n",
    "\n",
    "## Addition\n",
    "\n",
    "    results_add=num1+num2\n",
    "\n",
    "## Subtraction\n",
    "\n",
    "    results_sub=num1-num2\n",
    "\n",
    "## Multiplication\n",
    "\n",
    "    results_mult=num1*num2\n",
    "\n",
    "## Division\n",
    "\n",
    "    results_div=num1//num2\n",
    "    \n",
    "    return{\"Addition\": results_add,\n",
    "           \"Subtraction\": results_sub,\n",
    "           \"Multiplication\": results_mult,\n",
    "           \"Division\": results_div\n",
    "        \n",
    "    }\n",
    "\n",
    "results=calculations()\n",
    "\n",
    "print(\"First variable is :\", num1, '&', \"Second Variable is :\", num2)\n",
    "print(\"Addition : num1 + num2 \",'=',results['Addition'])\n",
    "print(\"Subtraction : num1 - num2 \",'=',results['Subtraction'])\n",
    "print(\"Multiplication : num1 * num2 \",'=',results['Multiplication'])\n",
    "print(\"Division : num1 / num2\",'=',results['Division'])\n",
    "\n",
    "\n"
   ]
  },
  {
   "cell_type": "markdown",
   "id": "09693daf",
   "metadata": {},
   "source": [
    "### Q.2. What is the difference between the following operators:\n",
    "(i) ‘/’ & ‘//’\n",
    "(ii) ‘**’ & ‘^’"
   ]
  },
  {
   "cell_type": "code",
   "execution_count": 48,
   "id": "2674a29f",
   "metadata": {},
   "outputs": [
    {
     "name": "stdout",
     "output_type": "stream",
     "text": [
      "10.4\n",
      "===========\n",
      "10\n"
     ]
    }
   ],
   "source": [
    "\"\"\"Solution:\n",
    "1. Difference between '/' and '//'\n",
    "\n",
    "'/'-- is the classic division operator where it carries out the float Division. FOr eg if we divide 520/50 then the answer would be 10.4.\n",
    "\n",
    "'//'-- The quotient is rounded off to the nearest whole number. For eg if we divide 520//50 then the answer would be 10\"\"\"\n",
    "\n",
    "a=520\n",
    "b=50\n",
    "\n",
    "print(a/b)\n",
    "print('===========')\n",
    "print(a//b)\n",
    "\n"
   ]
  },
  {
   "cell_type": "markdown",
   "id": "bdf2bd4d",
   "metadata": {},
   "source": [
    "### Q.3. List the logical operators.\n",
    "\n",
    "There are mainly 3 logical operators\n",
    "\n",
    "1. And\n",
    "2. Or\n",
    "3. Not"
   ]
  },
  {
   "cell_type": "markdown",
   "id": "2166de04",
   "metadata": {},
   "source": [
    "### Q.4. Explain right shift operator and left shift operator with examples."
   ]
  },
  {
   "cell_type": "code",
   "execution_count": 58,
   "id": "818dfe34",
   "metadata": {},
   "outputs": [
    {
     "name": "stdout",
     "output_type": "stream",
     "text": [
      "2\n"
     ]
    }
   ],
   "source": [
    "## Right Shift: This shifts the bits to the right side depending on the number of bits we give.\n",
    "\n",
    "a=20 ## Bit: In Binary 10100\n",
    "\n",
    "## Performing the Right Shift\n",
    "\n",
    "result=a >> 3 ## Moving right side by 3\n",
    "\n",
    "print(result)\n",
    "\n",
    "## Lets check the binary of 20 and 2 and confirm the output\n",
    "\n",
    "## 20 =  1 0 1 0 0\n",
    "## 2= 1 0"
   ]
  },
  {
   "cell_type": "code",
   "execution_count": 67,
   "id": "7bf5f107",
   "metadata": {},
   "outputs": [
    {
     "name": "stdout",
     "output_type": "stream",
     "text": [
      "80\n"
     ]
    }
   ],
   "source": [
    "## Left Shift: This shifts the bits to the left side depending on the number of bits we give\n",
    "\n",
    "a= 20 ## Bit : 1 0 1 0 0\n",
    "\n",
    "## Performing the Left shift\n",
    "\n",
    "result=a << 2 ## Moving left by 2\n",
    "\n",
    "print(result)\n",
    "\n",
    "## Lets check the binary numbers of 20 and 80 and confirm the output\n",
    "\n",
    "## 20 = 1 0 1 0 0\n",
    "## 80= 1 0 1 0 0 0 0"
   ]
  },
  {
   "cell_type": "markdown",
   "id": "a42e6009",
   "metadata": {},
   "source": [
    "### Q.5. Create a list containing int type data of length 15. Then write a code to check if 10 is present in the list or not.\n"
   ]
  },
  {
   "cell_type": "code",
   "execution_count": 76,
   "id": "17543c7d",
   "metadata": {},
   "outputs": [
    {
     "name": "stdout",
     "output_type": "stream",
     "text": [
      "10 is available in the list\n"
     ]
    }
   ],
   "source": [
    "## Create a list\n",
    "list=[1,2,3,4,5,6,7,8,9,10,11,12,13,14,15]\n",
    "\n",
    "## Code to check if 10 is available\n",
    "\n",
    "if 10 in list:\n",
    "    print(\"10 is available in the list\")\n",
    "else:\n",
    "    print(\"10 is not available in the list\")"
   ]
  },
  {
   "cell_type": "code",
   "execution_count": 77,
   "id": "80686529",
   "metadata": {},
   "outputs": [
    {
     "data": {
      "text/plain": [
       "15"
      ]
     },
     "execution_count": 77,
     "metadata": {},
     "output_type": "execute_result"
    }
   ],
   "source": [
    "len(list)"
   ]
  }
 ],
 "metadata": {
  "kernelspec": {
   "display_name": "Python 3 (ipykernel)",
   "language": "python",
   "name": "python3"
  },
  "language_info": {
   "codemirror_mode": {
    "name": "ipython",
    "version": 3
   },
   "file_extension": ".py",
   "mimetype": "text/x-python",
   "name": "python",
   "nbconvert_exporter": "python",
   "pygments_lexer": "ipython3",
   "version": "3.9.12"
  }
 },
 "nbformat": 4,
 "nbformat_minor": 5
}
